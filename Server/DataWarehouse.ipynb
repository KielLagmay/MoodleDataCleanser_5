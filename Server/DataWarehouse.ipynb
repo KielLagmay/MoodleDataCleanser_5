{
 "cells": [
  {
   "cell_type": "code",
   "execution_count": 1,
   "metadata": {},
   "outputs": [],
   "source": [
    "from Pyro5.api import expose, Daemon, locate_ns\n",
    "from os import listdir\n",
    "import threading\n",
    "import pandas as pd\n",
    "from os import path\n",
    "import netifaces"
   ]
  },
  {
   "cell_type": "code",
   "execution_count": 2,
   "metadata": {},
   "outputs": [],
   "source": [
    "@expose\n",
    "class DataWarehouse(object):\n",
    "    def __init__(self, dirpath, outfile, dataCleanFunc):\n",
    "        self.dirpath = dirpath\n",
    "        self.contents = [f for f in listdir(dirpath) if f.endswith('.csv')]\n",
    "        self.outfile = outfile + '.csv'\n",
    "        self.dataCleanFunc = dataCleanFunc\n",
    "        self.headerNotWritten = True\n",
    "\n",
    "    def removeItem(self):\n",
    "        def removeItemProper(lock):\n",
    "            lock.acquire()\n",
    "            item = None\n",
    "            try:\n",
    "                item = self.contents.pop()\n",
    "            except(IndexError):\n",
    "                item = None\n",
    "            lock.release()\n",
    "            return item\n",
    "        \n",
    "        return removeItemProper(threading.Lock())\n",
    "    \n",
    "    def cleanseData(self, item):\n",
    "        def checkIfHeaderNotWritten():\n",
    "            def checkIfHeaderNotWrittenProper(lock):\n",
    "                nonlocal self\n",
    "                \n",
    "                lock.acquire()\n",
    "                headerNotWritten = self.headerNotWritten\n",
    "                self.headerNotWritten = False\n",
    "                lock.release()\n",
    "                return headerNotWritten\n",
    "        \n",
    "            return checkIfHeaderNotWrittenProper(threading.Lock())\n",
    "        \n",
    "        df = pd.read_csv(self.dirpath + item)\n",
    "        result = self.dataCleanFunc(df)\n",
    "        result.to_csv(self.outfile, mode = 'a', header = checkIfHeaderNotWritten(), index = False)"
   ]
  },
  {
   "cell_type": "code",
   "execution_count": 3,
   "metadata": {},
   "outputs": [],
   "source": [
    "def openDataWarehouse(dirpath, outfile, dataCleanFunc):\n",
    "    def getWiFiIPAdd():\n",
    "        iface = netifaces.gateways()['default'][netifaces.AF_INET][1]\n",
    "        ipadd = netifaces.ifaddresses(iface)[netifaces.AF_INET][0]['addr']\n",
    "        return ipadd\n",
    "    \n",
    "    datawarehouse = DataWarehouse(dirpath, outfile, dataCleanFunc)\n",
    "    HOST_IP = getWiFiIPAdd()\n",
    "    HOST_PORT = 9092\n",
    "    with Daemon(host=HOST_IP, port=HOST_PORT) as daemon:\n",
    "        datawarehouse_uri = daemon.register(datawarehouse)\n",
    "        with locate_ns() as ns:\n",
    "            ns.register(\"example.datawarehouse\", datawarehouse_uri)\n",
    "        daemon.requestLoop()"
   ]
  }
 ],
 "metadata": {
  "kernelspec": {
   "display_name": "Python 3",
   "language": "python",
   "name": "python3"
  },
  "language_info": {
   "codemirror_mode": {
    "name": "ipython",
    "version": 3
   },
   "file_extension": ".py",
   "mimetype": "text/x-python",
   "name": "python",
   "nbconvert_exporter": "python",
   "pygments_lexer": "ipython3",
   "version": "3.8.5"
  }
 },
 "nbformat": 4,
 "nbformat_minor": 4
}
